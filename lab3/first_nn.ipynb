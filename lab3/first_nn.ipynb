{
 "cells": [
  {
   "cell_type": "code",
   "execution_count": 1,
   "metadata": {
    "collapsed": true
   },
   "outputs": [],
   "source": [
    "import matplotlib.pyplot as plt\n",
    "\n",
    "from preprocessing import *\n",
    "from math_utils import *\n",
    "\n",
    "%matplotlib inline\n",
    "\n",
    "IMAGES_PATH = 'train-images-idx3-ubyte'\n",
    "LABELS_PATH = 'train-labels-idx1-ubyte'\n",
    "RANDOM_SEED = 42\n",
    "N_CLASSES = 10"
   ]
  },
  {
   "cell_type": "code",
   "execution_count": 2,
   "metadata": {
    "collapsed": true
   },
   "outputs": [],
   "source": [
    "X, y = read_mnist(IMAGES_PATH, LABELS_PATH)\n",
    "X, y = shuffle_data(X, y, random_seed=RANDOM_SEED)\n",
    "X_train, y_train = X[:500], y[:500]\n",
    "X_test, y_test = X[500:], y[500:]"
   ]
  },
  {
   "cell_type": "code",
   "execution_count": 3,
   "metadata": {},
   "outputs": [
    {
     "data": {
      "image/png": "[encoded data removed]",
      "text/plain": [
       "<matplotlib.figure.Figure at 0x10aaa79e8>"
      ]
     },
     "metadata": {},
     "output_type": "display_data"
    }
   ],
   "source": [
    "def plot_digit(X, y, idx):\n",
    "    img = X[idx].reshape(28,28)\n",
    "    plt.imshow(img, cmap='Greys',  interpolation='nearest')\n",
    "    plt.title('true label: %d' % y[idx])\n",
    "    plt.show()\n",
    "    \n",
    "plot_digit(X, y, 1)"
   ]
  },
  {
   "cell_type": "code",
   "execution_count": 4,
   "metadata": {
    "collapsed": true
   },
   "outputs": [],
   "source": [
    "import numpy as np\n",
    "import sys\n",
    "\n",
    "class NNClassifier:\n",
    "\n",
    "    def __init__(self, n_classes, n_features, n_hidden_units=30,\n",
    "                 l1=0.0, l2=0.0, epochs=500, learning_rate=0.01,\n",
    "                 n_batches=1, random_seed=None):\n",
    "\n",
    "        if random_seed:\n",
    "            np.random.seed(random_seed)\n",
    "        self.n_classes = n_classes\n",
    "        self.n_features = n_features\n",
    "        self.n_hidden_units = n_hidden_units\n",
    "        self.w1, self.w2 = self._init_weights()\n",
    "        self.l1 = l1\n",
    "        self.l2 = l2\n",
    "        self.epochs = epochs\n",
    "        self.learning_rate = learning_rate\n",
    "        self.n_batches = n_batches\n",
    "\n",
    "    def _init_weights(self):\n",
    "        w1 = np.random.uniform(-1.0, 1.0, size=self.n_hidden_units * (self.n_features + 1))\n",
    "        w1 = w1.reshape(self.n_hidden_units, self.n_features + 1)\n",
    "        w2 = np.random.uniform(-1.0, 1.0, size=self.n_classes * (self.n_hidden_units + 1))\n",
    "        w2 = w2.reshape(self.n_classes, self.n_hidden_units + 1)\n",
    "        return w1, w2\n",
    "\n",
    "    def _add_bias_unit(self, X, how='column'):\n",
    "        \"\"\"Add bias unit (column or row of 1s) to array at index 0\"\"\"\n",
    "        if how == 'column':\n",
    "            X_new = np.ones((X.shape[0], X.shape[1]+1))\n",
    "            X_new[:, 1:] = X\n",
    "        elif how == 'row':\n",
    "            X_new = np.ones((X.shape[0]+1, X.shape[1]))\n",
    "            X_new[1:, :] = X\n",
    "        else:\n",
    "            raise AttributeError('how must be columns or row')\n",
    "        return X_new\n",
    "\n",
    "    def _forward(self, X):\n",
    "        a1 = self._add_bias_unit(X, how='column')\n",
    "        z2 = self.w1.dot(a1.T)\n",
    "        a2 = sigmoid(z2)\n",
    "        a2 = self._add_bias_unit(a2, how='row')\n",
    "        z3 = self.w2.dot(a2)\n",
    "        a3 = sigmoid(z3)\n",
    "        return a1, z2, a2, z3, a3\n",
    "    \n",
    "    def _backward(self, hidden_layer, input_activation, hidden_activation, output_activation, y):\n",
    "        sigma3 = output_activation - y\n",
    "        hidden_layer = self._add_bias_unit(hidden_layer, how='row')\n",
    "        sigma2 = self.w2.T.dot(sigma3) * sigmoid_gradient(hidden_layer)\n",
    "        sigma2 = sigma2[1:, :]\n",
    "        grad1 = sigma2.dot(input_activation)\n",
    "        grad2 = sigma3.dot(hidden_activation.T)\n",
    "        return grad1, grad2\n",
    "\n",
    "    def _get_cost(self, y, output):\n",
    "        L1_term = L1_reg(self.l1, self.w1, self.w2)\n",
    "        L2_term = L2_reg(self.l2, self.w1, self.w2)\n",
    "        cost = cross_entropy(output, y) + L1_term + L2_term\n",
    "        return 0.5 * np.mean(cost)\n",
    "\n",
    "    def _get_gradient(self, X, y):\n",
    "        a1, z2, a2, z3, a3 = self._forward(X)\n",
    "        y = y.T\n",
    "        cost = self._get_cost(y, a3)\n",
    "\n",
    "        grad1, grad2 = self._backward(z2, a1, a2, a3, y)\n",
    "\n",
    "        # regularize\n",
    "        grad1[:, 1:] += (self.w1[:, 1:] * (self.l1 + self.l2))\n",
    "        grad2[:, 1:] += (self.w2[:, 1:] * (self.l1 + self.l2))\n",
    "\n",
    "        return cost, grad1, grad2\n",
    "\n",
    "    def predict(self, X):\n",
    "        Xt = X.copy()\n",
    "\n",
    "        a1, z2, a2, z3, a3 = self._forward(Xt)\n",
    "        return mle(z3.T)\n",
    "    \n",
    "    def predict_proba(self, X):\n",
    "        a1, z2, a2, z3, a3 = self._forward(X)\n",
    "        return softmax(a3.T)\n",
    "\n",
    "    def fit(self, X, y):\n",
    "        self.cost_ = []\n",
    "        X_data, y_data = X.copy(), y.copy()\n",
    "        y_data_enc = one_hot(y_data, self.n_classes)\n",
    "        for i in range(self.epochs):\n",
    "\n",
    "            X_mb = np.array_split(X_data, self.n_batches)\n",
    "            y_mb = np.array_split(y_data_enc, self.n_batches)\n",
    "\n",
    "            for Xi, yi in zip(X_mb, y_mb):\n",
    "                \n",
    "                # update weights\n",
    "                cost, grad1, grad2 = self._get_gradient(Xi, yi)\n",
    "                self.cost_.append(cost)\n",
    "                self.w1 -= (self.learning_rate * grad1)\n",
    "                self.w2 -= (self.learning_rate * grad2)\n",
    "\n",
    "        return self\n",
    "    \n",
    "    def score(self, X, y):\n",
    "        y_hat = self.predict(X)\n",
    "        return np.sum(y == y_hat, axis=0) / float(X.shape[0])"
   ]
  },
  {
   "cell_type": "code",
   "execution_count": 5,
   "metadata": {},
   "outputs": [],
   "source": [
    "nn = NNClassifier(n_classes=N_CLASSES, \n",
    "                  n_features=X_train.shape[1],\n",
    "                  n_hidden_units=50,\n",
    "                  l2=0.5,\n",
    "                  l1=0.0,\n",
    "                  epochs=300,\n",
    "                  learning_rate=0.001,\n",
    "                  n_batches=25,\n",
    "                  random_seed=RANDOM_SEED)"
   ]
  },
  {
   "cell_type": "code",
   "execution_count": 6,
   "metadata": {},
   "outputs": [
    {
     "data": {
      "image/png": "[encoded data removed]",
      "text/plain": [
       "<matplotlib.figure.Figure at 0x110546e80>"
      ]
     },
     "metadata": {},
     "output_type": "display_data"
    }
   ],
   "source": [
    "import matplotlib.pyplot as plt\n",
    "\n",
    "nn.fit(X_train, y_train)\n",
    "\n",
    "plt.plot(range(len(nn.cost_)), nn.cost_)\n",
    "plt.ylim([0, 500])\n",
    "plt.ylabel('Cost')\n",
    "plt.xlabel('Epochs')\n",
    "plt.show()"
   ]
  },
  {
   "cell_type": "code",
   "execution_count": 7,
   "metadata": {},
   "outputs": [
    {
     "name": "stdout",
     "output_type": "stream",
     "text": [
      "Train Accuracy: 91.80%\n",
      "Test Accuracy: 81.65%\n"
     ]
    }
   ],
   "source": [
    "print('Train Accuracy: %.2f%%' % (nn.score(X_train, y_train) * 100))\n",
    "print('Test Accuracy: %.2f%%' % (nn.score(X_test, y_test) * 100))"
   ]
  },
  {
   "cell_type": "code",
   "execution_count": 8,
   "metadata": {},
   "outputs": [
    {
     "data": {
      "text/plain": [
       "array([[ 0.09035949,  0.15413943,  0.10413868,  0.09240382,  0.09270937,\n",
       "         0.09134983,  0.09201285,  0.0901884 ,  0.10168506,  0.09101307],\n",
       "       [ 0.09006643,  0.08982926,  0.09148965,  0.08801483,  0.08905539,\n",
       "         0.09358783,  0.18462954,  0.08784268,  0.09758406,  0.08790033],\n",
       "       [ 0.08764344,  0.18688476,  0.09135589,  0.09193231,  0.08872098,\n",
       "         0.09138554,  0.08971505,  0.09022658,  0.08971823,  0.09241722],\n",
       "       [ 0.18758876,  0.0868079 ,  0.09603454,  0.08975343,  0.08712031,\n",
       "         0.09169447,  0.0897783 ,  0.08905143,  0.08835402,  0.09381683],\n",
       "       [ 0.08859236,  0.08704482,  0.08557278,  0.08828382,  0.10025909,\n",
       "         0.17975231,  0.0880831 ,  0.10175369,  0.08869118,  0.09196685]])"
      ]
     },
     "execution_count": 8,
     "metadata": {},
     "output_type": "execute_result"
    }
   ],
   "source": [
    "nn.predict_proba(X_test[:5])"
   ]
  },
  {
   "cell_type": "code",
   "execution_count": 9,
   "metadata": {},
   "outputs": [
    {
     "data": {
      "image/png": "[encoded data removed]",
      "text/plain": [
       "<matplotlib.figure.Figure at 0x107dc9a58>"
      ]
     },
     "metadata": {},
     "output_type": "display_data"
    }
   ],
   "source": [
    "plt.bar(range(N_CLASSES), nn.predict_proba(X_test[:1])[0]);\n",
    "plt.title('true label: %d' % y_test[:1]);"
   ]
  },
  {
   "cell_type": "code",
   "execution_count": 10,
   "metadata": {},
   "outputs": [
    {
     "data": {
      "text/plain": [
       "array([1, 6, 1, 0, 5])"
      ]
     },
     "execution_count": 10,
     "metadata": {},
     "output_type": "execute_result"
    }
   ],
   "source": [
    "mle(nn.predict_proba(X_test[:5]))"
   ]
  },
  {
   "cell_type": "code",
   "execution_count": 11,
   "metadata": {},
   "outputs": [
    {
     "data": {
      "text/plain": [
       "array([1, 6, 1, 0, 5])"
      ]
     },
     "execution_count": 11,
     "metadata": {},
     "output_type": "execute_result"
    }
   ],
   "source": [
    "nn.predict(X_test[:5])"
   ]
  }
 ],
 "metadata": {
  "kernelspec": {
   "display_name": "Python 3",
   "language": "python",
   "name": "python3"
  },
  "language_info": {
   "codemirror_mode": {
    "name": "ipython",
    "version": 3
   },
   "file_extension": ".py",
   "mimetype": "text/x-python",
   "name": "python",
   "nbconvert_exporter": "python",
   "pygments_lexer": "ipython3",
   "version": "3.6.1"
  }
 },
 "nbformat": 4,
 "nbformat_minor": 2
}
