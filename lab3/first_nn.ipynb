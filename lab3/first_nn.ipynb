{
 "cells": [
  {
   "cell_type": "markdown",
   "metadata": {},
   "source": [
    "# Setup"
   ]
  },
  {
   "cell_type": "code",
   "execution_count": 1,
   "metadata": {
    "collapsed": true
   },
   "outputs": [],
   "source": [
    "import numpy as np\n",
    "import matplotlib.pyplot as plt\n",
    "from pylab import rcParams\n",
    "\n",
    "from preprocessing import *\n",
    "from math_utils import *\n",
    "from plotting import *\n",
    "\n",
    "%matplotlib inline\n",
    "\n",
    "rcParams['figure.figsize'] = 12, 6\n",
    "\n",
    "IMAGES_PATH = 'train-images-idx3-ubyte'\n",
    "LABELS_PATH = 'train-labels-idx1-ubyte'\n",
    "RANDOM_SEED = 42\n",
    "\n",
    "N_FEATURES = 28 * 28\n",
    "N_CLASSES = 10"
   ]
  },
  {
   "cell_type": "markdown",
   "metadata": {},
   "source": [
    "# Splitting the data"
   ]
  },
  {
   "cell_type": "code",
   "execution_count": 2,
   "metadata": {
    "collapsed": true
   },
   "outputs": [],
   "source": [
    "X, y = read_mnist(IMAGES_PATH, LABELS_PATH)\n",
    "X, y = shuffle_data(X, y, random_seed=RANDOM_SEED)\n",
    "X_train, y_train = X[:500], y[:500]\n",
    "X_test, y_test = X[500:], y[500:]"
   ]
  },
  {
   "cell_type": "markdown",
   "metadata": {},
   "source": [
    "# Data exploration"
   ]
  },
  {
   "cell_type": "code",
   "execution_count": 3,
   "metadata": {},
   "outputs": [
    {
     "data": {
      "image/png": "[encoded data removed]",
      "text/plain": [
       "<matplotlib.figure.Figure at 0x7f955fe110f0>"
      ]
     },
     "metadata": {},
     "output_type": "display_data"
    }
   ],
   "source": [
    "plot_digit(X, y, idx=1)"
   ]
  },
  {
   "cell_type": "markdown",
   "metadata": {},
   "source": [
    "# Building our model"
   ]
  },
  {
   "cell_type": "code",
   "execution_count": 4,
   "metadata": {
    "collapsed": true
   },
   "outputs": [],
   "source": [
    "class NNClassifier:\n",
    "\n",
    "    def __init__(self, n_classes, n_features, n_hidden_units=30,\n",
    "                 l1=0.0, l2=0.0, epochs=500, learning_rate=0.01,\n",
    "                 n_batches=1, random_seed=None):\n",
    "\n",
    "        if random_seed:\n",
    "            np.random.seed(random_seed)\n",
    "        self.n_classes = n_classes\n",
    "        self.n_features = n_features\n",
    "        self.n_hidden_units = n_hidden_units\n",
    "        self.w1, self.w2 = self._init_weights()\n",
    "        self.l1 = l1\n",
    "        self.l2 = l2\n",
    "        self.epochs = epochs\n",
    "        self.learning_rate = learning_rate\n",
    "        self.n_batches = n_batches\n",
    "\n",
    "    def _init_weights(self):\n",
    "        w1 = np.random.uniform(-1.0, 1.0, \n",
    "                               size=self.n_hidden_units * (self.n_features + 1))\n",
    "        w1 = w1.reshape(self.n_hidden_units, self.n_features + 1)\n",
    "        w2 = np.random.uniform(-1.0, 1.0, \n",
    "                               size=self.n_classes * (self.n_hidden_units + 1))\n",
    "        w2 = w2.reshape(self.n_classes, self.n_hidden_units + 1)\n",
    "        return w1, w2\n",
    "\n",
    "    def _add_bias_unit(self, X, how='column'):\n",
    "        \"\"\"Add bias unit (column or row of 1s) to array at index 0\"\"\"\n",
    "        if how == 'column':\n",
    "            X_new = np.ones((X.shape[0], X.shape[1]+1))\n",
    "            X_new[:, 1:] = X\n",
    "        elif how == 'row':\n",
    "            X_new = np.ones((X.shape[0]+1, X.shape[1]))\n",
    "            X_new[1:, :] = X\n",
    "        else:\n",
    "            raise AttributeError('how must be columns or row')\n",
    "        return X_new\n",
    "\n",
    "    def _forward(self, X):\n",
    "        net_input = self._add_bias_unit(X, how='column')\n",
    "        net_hidden = self.w1.dot(net_input.T)\n",
    "        act_hidden = sigmoid(net_hidden)\n",
    "        act_hidden = self._add_bias_unit(act_hidden, how='row')\n",
    "        net_out = self.w2.dot(act_hidden)\n",
    "        act_out = sigmoid(net_out)\n",
    "        return net_input, net_hidden, act_hidden, net_out, act_out\n",
    "    \n",
    "    def _backward(self, net_input, net_hidden, act_hidden, act_out, y):\n",
    "        sigma3 = act_out - y\n",
    "        net_hidden = self._add_bias_unit(net_hidden, how='row')\n",
    "        sigma2 = self.w2.T.dot(sigma3) * sigmoid_prime(net_hidden)\n",
    "        sigma2 = sigma2[1:, :]\n",
    "        grad1 = sigma2.dot(net_input)\n",
    "        grad2 = sigma3.dot(act_hidden.T)\n",
    "        return grad1, grad2\n",
    "\n",
    "    def _error(self, y, output):\n",
    "        L1_term = L1_reg(self.l1, self.w1, self.w2)\n",
    "        L2_term = L2_reg(self.l2, self.w1, self.w2)\n",
    "        error = cross_entropy(output, y) + L1_term + L2_term\n",
    "        return 0.5 * np.mean(error)\n",
    "\n",
    "    def _backprop_step(self, X, y):\n",
    "        net_input, net_hidden, act_hidden, net_out, act_out = self._forward(X)\n",
    "        y = y.T\n",
    "\n",
    "        grad1, grad2 = self._backward(net_input, net_hidden, act_hidden, act_out, y)\n",
    "\n",
    "        # regularize\n",
    "        grad1[:, 1:] += (self.w1[:, 1:] * (self.l1 + self.l2))\n",
    "        grad2[:, 1:] += (self.w2[:, 1:] * (self.l1 + self.l2))\n",
    "\n",
    "        error = self._error(y, act_out)\n",
    "        \n",
    "        return error, grad1, grad2\n",
    "\n",
    "    def predict(self, X):\n",
    "        Xt = X.copy()\n",
    "        a1, z2, a2, z3, a3 = self._forward(Xt)\n",
    "        return mle(z3.T)\n",
    "    \n",
    "    def predict_proba(self, X):\n",
    "        a1, z2, a2, z3, a3 = self._forward(X)\n",
    "        return softmax(a3.T)\n",
    "\n",
    "    def fit(self, X, y):\n",
    "        self.error_ = []\n",
    "        X_data, y_data = X.copy(), y.copy()\n",
    "        y_data_enc = one_hot(y_data, self.n_classes)\n",
    "        for i in range(self.epochs):\n",
    "\n",
    "            X_mb = np.array_split(X_data, self.n_batches)\n",
    "            y_mb = np.array_split(y_data_enc, self.n_batches)\n",
    "\n",
    "            for Xi, yi in zip(X_mb, y_mb):\n",
    "                \n",
    "                # update weights\n",
    "                error, grad1, grad2 = self._backprop_step(Xi, yi)\n",
    "                self.error_.append(error)\n",
    "                self.w1 -= (self.learning_rate * grad1)\n",
    "                self.w2 -= (self.learning_rate * grad2)\n",
    "\n",
    "        return self\n",
    "    \n",
    "    def score(self, X, y):\n",
    "        y_hat = self.predict(X)\n",
    "        return np.sum(y == y_hat, axis=0) / float(X.shape[0])"
   ]
  },
  {
   "cell_type": "markdown",
   "metadata": {},
   "source": [
    "## Training"
   ]
  },
  {
   "cell_type": "code",
   "execution_count": 5,
   "metadata": {},
   "outputs": [],
   "source": [
    "nn = NNClassifier(n_classes=N_CLASSES, \n",
    "                  n_features=N_FEATURES,\n",
    "                  n_hidden_units=50,\n",
    "                  l2=0.5,\n",
    "                  l1=0.0,\n",
    "                  epochs=300,\n",
    "                  learning_rate=0.001,\n",
    "                  n_batches=25,\n",
    "                  random_seed=RANDOM_SEED)\n",
    "\n",
    "nn.fit(X_train, y_train);"
   ]
  },
  {
   "cell_type": "markdown",
   "metadata": {},
   "source": [
    "# Evaluation"
   ]
  },
  {
   "cell_type": "code",
   "execution_count": 6,
   "metadata": {},
   "outputs": [
    {
     "data": {
      "image/png": "[encoded data removed]",
      "text/plain": [
       "<matplotlib.figure.Figure at 0x7f955fd56dd8>"
      ]
     },
     "metadata": {},
     "output_type": "display_data"
    }
   ],
   "source": [
    "plot_error(nn)"
   ]
  },
  {
   "cell_type": "code",
   "execution_count": 7,
   "metadata": {},
   "outputs": [
    {
     "name": "stdout",
     "output_type": "stream",
     "text": [
      "Train Accuracy: 93.20%\n",
      "Test Accuracy: 81.61%\n"
     ]
    }
   ],
   "source": [
    "print('Train Accuracy: %.2f%%' % (nn.score(X_train, y_train) * 100))\n",
    "print('Test Accuracy: %.2f%%' % (nn.score(X_test, y_test) * 100))"
   ]
  },
  {
   "cell_type": "code",
   "execution_count": 8,
   "metadata": {},
   "outputs": [
    {
     "data": {
      "text/plain": [
       "array([[ 0.08791506,  0.08967695,  0.09230137,  0.08762937,  0.08983014,\n",
       "         0.08973725,  0.18280843,  0.08709262,  0.10326369,  0.08974513]])"
      ]
     },
     "execution_count": 8,
     "metadata": {},
     "output_type": "execute_result"
    }
   ],
   "source": [
    "nn.predict_proba(X_test[1:2])"
   ]
  },
  {
   "cell_type": "markdown",
   "metadata": {},
   "source": [
    "## Correct prediction"
   ]
  },
  {
   "cell_type": "code",
   "execution_count": 9,
   "metadata": {},
   "outputs": [
    {
     "data": {
      "image/png": "[encoded data removed]",
      "text/plain": [
       "<matplotlib.figure.Figure at 0x7f95184d5e80>"
      ]
     },
     "metadata": {},
     "output_type": "display_data"
    }
   ],
   "source": [
    "plot_digit(X_test, y_test, idx=1)"
   ]
  },
  {
   "cell_type": "code",
   "execution_count": 10,
   "metadata": {},
   "outputs": [
    {
     "data": {
      "image/png": "[encoded data removed]",
      "text/plain": [
       "<matplotlib.figure.Figure at 0x7f95184c2cc0>"
      ]
     },
     "metadata": {},
     "output_type": "display_data"
    }
   ],
   "source": [
    "plot_digit_dist(X_test, y_test, idx=1, model=nn)"
   ]
  },
  {
   "cell_type": "markdown",
   "metadata": {},
   "source": [
    "## Wrong prediction"
   ]
  },
  {
   "cell_type": "code",
   "execution_count": 11,
   "metadata": {},
   "outputs": [
    {
     "data": {
      "image/png": "[encoded data removed]",
      "text/plain": [
       "<matplotlib.figure.Figure at 0x7f95182710b8>"
      ]
     },
     "metadata": {},
     "output_type": "display_data"
    }
   ],
   "source": [
    "plot_digit(X_test, y_test, idx=25)"
   ]
  },
  {
   "cell_type": "code",
   "execution_count": 12,
   "metadata": {},
   "outputs": [
    {
     "data": {
      "image/png": "[encoded data removed]",
      "text/plain": [
       "<matplotlib.figure.Figure at 0x7f955fe1efd0>"
      ]
     },
     "metadata": {},
     "output_type": "display_data"
    }
   ],
   "source": [
    "plot_digit_dist(X_test, y_test, idx=25, model=nn)"
   ]
  },
  {
   "cell_type": "markdown",
   "metadata": {},
   "source": [
    "## MLE = picking the most probable digit"
   ]
  },
  {
   "cell_type": "code",
   "execution_count": 13,
   "metadata": {},
   "outputs": [
    {
     "data": {
      "text/plain": [
       "array([[ 0.08608564,  0.17233102,  0.09845582,  0.09196923,  0.0884549 ,\n",
       "         0.08626702,  0.08759334,  0.08866887,  0.11129755,  0.0888766 ],\n",
       "       [ 0.08791506,  0.08967695,  0.09230137,  0.08762937,  0.08983014,\n",
       "         0.08973725,  0.18280843,  0.08709262,  0.10326369,  0.08974513],\n",
       "       [ 0.08669851,  0.19451022,  0.09157125,  0.09088218,  0.08784206,\n",
       "         0.08789407,  0.08887273,  0.08918729,  0.09193998,  0.09060171],\n",
       "       [ 0.18322969,  0.08823892,  0.0932458 ,  0.09058121,  0.08891085,\n",
       "         0.09267016,  0.09125112,  0.0901729 ,  0.0904505 ,  0.09124884],\n",
       "       [ 0.08696752,  0.08800426,  0.08603436,  0.08992187,  0.09368129,\n",
       "         0.19789774,  0.08758577,  0.08882118,  0.09050277,  0.09058323]])"
      ]
     },
     "execution_count": 13,
     "metadata": {},
     "output_type": "execute_result"
    }
   ],
   "source": [
    "nn.predict_proba(X_test[:5])"
   ]
  },
  {
   "cell_type": "code",
   "execution_count": 14,
   "metadata": {},
   "outputs": [
    {
     "data": {
      "text/plain": [
       "array([1, 6, 1, 0, 5])"
      ]
     },
     "execution_count": 14,
     "metadata": {},
     "output_type": "execute_result"
    }
   ],
   "source": [
    "mle(nn.predict_proba(X_test[:5]))"
   ]
  },
  {
   "cell_type": "code",
   "execution_count": 15,
   "metadata": {},
   "outputs": [
    {
     "data": {
      "text/plain": [
       "array([1, 6, 1, 0, 5])"
      ]
     },
     "execution_count": 15,
     "metadata": {},
     "output_type": "execute_result"
    }
   ],
   "source": [
    "nn.predict(X_test[:5])"
   ]
  }
 ],
 "metadata": {
  "kernelspec": {
   "display_name": "Python 3",
   "language": "python",
   "name": "python3"
  },
  "language_info": {
   "codemirror_mode": {
    "name": "ipython",
    "version": 3
   },
   "file_extension": ".py",
   "mimetype": "text/x-python",
   "name": "python",
   "nbconvert_exporter": "python",
   "pygments_lexer": "ipython3",
   "version": "3.6.1"
  }
 },
 "nbformat": 4,
 "nbformat_minor": 2
}
