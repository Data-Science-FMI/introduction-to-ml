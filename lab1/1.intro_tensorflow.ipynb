{
 "cells": [
  {
   "cell_type": "markdown",
   "metadata": {},
   "source": [
    "<img src=\"http://curiousily.com/assets/11.tensorflow_for_hackers_part_1_files/tensors_flowing.gif\" width=\"50%\" height=\"40%\"/>"
   ]
  },
  {
   "cell_type": "markdown",
   "metadata": {},
   "source": [
    "# Graphs\n",
    "\n",
    "Everything you do in TensorFlow is based on computational graphs. Each node of the graph defines an operation. The operation can be any function - addition, multiplication or some funky custom function you wrote.\n",
    "\n",
    "## Tensors\n",
    "\n",
    "You can give a scalar value, vector, matrix or a Tensor to the operations in the graph. Tensors are just multi-dimensional matrices.\n",
    "\n",
    "Let's have a look at an example computational graph:\n",
    "\n",
    "<img src=\"https://cdn-images-1.medium.com/max/1600/1*mvhm5_r6LY-eHsin21RJTg.png\" height=\"80%\" width=\"80%\"/>"
   ]
  },
  {
   "cell_type": "markdown",
   "metadata": {},
   "source": [
    "How does this look like in TensorFlow?"
   ]
  },
  {
   "cell_type": "code",
   "execution_count": 15,
   "metadata": {},
   "outputs": [],
   "source": [
    "import tensorflow as tf\n",
    "\n",
    "t1 = tf.Variable(2)\n",
    "t2 = tf.Variable(3)\n",
    "\n",
    "res = t1 * t2"
   ]
  },
  {
   "cell_type": "markdown",
   "metadata": {},
   "source": [
    "That was easy, right? No graphs, nothing seriously strange. And now for the result:"
   ]
  },
  {
   "cell_type": "code",
   "execution_count": 9,
   "metadata": {},
   "outputs": [
    {
     "data": {
      "text/plain": [
       "<tf.Tensor 'mul_3:0' shape=() dtype=int32>"
      ]
     },
     "execution_count": 9,
     "metadata": {},
     "output_type": "execute_result"
    }
   ],
   "source": [
    "res"
   ]
  },
  {
   "cell_type": "markdown",
   "metadata": {},
   "source": [
    "That must be how new math is developed. $2 \\times 3 = \\text{tf.Tensor}$?\n",
    "\n",
    "First, let's see the hidden `default` graph."
   ]
  },
  {
   "cell_type": "code",
   "execution_count": 11,
   "metadata": {},
   "outputs": [
    {
     "data": {
      "text/plain": [
       "True"
      ]
     },
     "execution_count": 11,
     "metadata": {},
     "output_type": "execute_result"
    }
   ],
   "source": [
    "t1.graph is tf.get_default_graph()"
   ]
  },
  {
   "cell_type": "code",
   "execution_count": 12,
   "metadata": {},
   "outputs": [
    {
     "data": {
      "text/plain": [
       "True"
      ]
     },
     "execution_count": 12,
     "metadata": {},
     "output_type": "execute_result"
    }
   ],
   "source": [
    "res.graph is tf.get_default_graph()"
   ]
  },
  {
   "cell_type": "markdown",
   "metadata": {},
   "source": [
    "All your Tensors are attached to the mystical `default` graph. What about the result?\n",
    "\n",
    "# Sessions\n",
    "\n",
    "See, the code above didn't perform any computation. You just created a computational graph. If you want to do something meaningful you need a `session`. Sessions are used for graph evaluation, think variable initialization and actually computing `res`.\n",
    "\n",
    "A TensorFlow session takes care of running operations (on GPUs and CPUs) and holding variable values. Let's see how this is done:"
   ]
  },
  {
   "cell_type": "code",
   "execution_count": 18,
   "metadata": {},
   "outputs": [
    {
     "name": "stdout",
     "output_type": "stream",
     "text": [
      "Multiplication result: 6\n"
     ]
    }
   ],
   "source": [
    "with tf.Session() as sess:\n",
    "    t1.initializer.run()\n",
    "    t2.initializer.run()\n",
    "    print(f\"Multiplication result: {res.eval()}\")"
   ]
  },
  {
   "cell_type": "markdown",
   "metadata": {},
   "source": [
    "We initialized all our tensors and evaluated the result. Here is a somewhat shorter version that initializes all global variables automagically:"
   ]
  },
  {
   "cell_type": "code",
   "execution_count": 27,
   "metadata": {},
   "outputs": [
    {
     "name": "stdout",
     "output_type": "stream",
     "text": [
      "Multiplication result: 6\n"
     ]
    }
   ],
   "source": [
    "init = tf.global_variables_initializer()\n",
    "\n",
    "with tf.Session() as sess:\n",
    "    init.run() # or sess.run(init)\n",
    "    print(f\"Multiplication result: {res.eval()}\")"
   ]
  },
  {
   "cell_type": "markdown",
   "metadata": {},
   "source": [
    "# Variables\n",
    "\n",
    "Variables are just... eh, variables? By definition, you can change their values. That is quite useful, since tensors and operators are immutable. Let's create a normally distributed $3\\times4$ matrix with $mean=0$ and $std=100$"
   ]
  },
  {
   "cell_type": "code",
   "execution_count": 31,
   "metadata": {},
   "outputs": [],
   "source": [
    "normal = tf.Variable(tf.random_normal([3, 4], mean=0.0, stddev=100.0))"
   ]
  },
  {
   "cell_type": "code",
   "execution_count": 32,
   "metadata": {},
   "outputs": [
    {
     "name": "stdout",
     "output_type": "stream",
     "text": [
      "[[  88.98575592  -63.97093964   22.90000916  -46.07382965]\n",
      " [ -93.86627197   21.56847191   71.74320221   49.92846298]\n",
      " [ -36.90287399   27.77186584   96.48136139 -177.17501831]]\n"
     ]
    }
   ],
   "source": [
    "init = tf.global_variables_initializer()\n",
    "\n",
    "with tf.Session() as sess:\n",
    "    sess.run(init)\n",
    "    print(normal.eval())"
   ]
  },
  {
   "cell_type": "markdown",
   "metadata": {},
   "source": [
    "Now let's change it:"
   ]
  },
  {
   "cell_type": "code",
   "execution_count": 34,
   "metadata": {},
   "outputs": [],
   "source": [
    "normal = normal.assign(tf.Variable(tf.random_normal([3, 4], mean=0.0, stddev=100.0)))"
   ]
  },
  {
   "cell_type": "code",
   "execution_count": 35,
   "metadata": {},
   "outputs": [
    {
     "name": "stdout",
     "output_type": "stream",
     "text": [
      "[[  39.33778763 -162.35063171 -122.39305878  168.09117126]\n",
      " [ -29.89160156  208.02810669 -179.69007874  -32.09128571]\n",
      " [-109.32617188  -30.70136261  162.00169373   66.11909485]]\n"
     ]
    }
   ],
   "source": [
    "init = tf.global_variables_initializer()\n",
    "\n",
    "with tf.Session() as sess:\n",
    "    sess.run(init)\n",
    "    print(normal.eval())"
   ]
  },
  {
   "cell_type": "markdown",
   "metadata": {},
   "source": [
    "Hard, right?"
   ]
  }
 ],
 "metadata": {
  "kernelspec": {
   "display_name": "Python 3",
   "language": "python",
   "name": "python3"
  },
  "language_info": {
   "codemirror_mode": {
    "name": "ipython",
    "version": 3
   },
   "file_extension": ".py",
   "mimetype": "text/x-python",
   "name": "python",
   "nbconvert_exporter": "python",
   "pygments_lexer": "ipython3",
   "version": "3.6.1"
  }
 },
 "nbformat": 4,
 "nbformat_minor": 2
}
